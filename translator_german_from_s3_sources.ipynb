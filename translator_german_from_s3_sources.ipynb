{
 "cells": [
  {
   "cell_type": "markdown",
   "id": "7dce6ec1-4e23-4d4c-b2b7-6c2de9b465c5",
   "metadata": {},
   "source": [
    "# Introduction\n",
    "\n",
    "@Author: Yingding Wang\\\n",
    "@CreatedOn: 20.11.2023\n",
    "\n",
    "This notebook shows an example of using pdf data from a S3 bucket source to be translated from german lanuage into english."
   ]
  },
  {
   "cell_type": "code",
   "execution_count": null,
   "id": "d85ef3af-bda8-435c-96cd-55ff0ae716dd",
   "metadata": {},
   "outputs": [],
   "source": [
    "#list=!nvidia-smi -L\n",
    "#for i in range(len(list)):\n",
    "#    print(list[i])"
   ]
  },
  {
   "cell_type": "code",
   "execution_count": 23,
   "id": "3c714714-0c21-499d-af92-be62f99e83a8",
   "metadata": {},
   "outputs": [
    {
     "name": "stdout",
     "output_type": "stream",
     "text": [
      "3.8.10\n"
     ]
    }
   ],
   "source": [
    "import os\n",
    "from platform import python_version\n",
    "\n",
    "print(python_version())"
   ]
  },
  {
   "cell_type": "markdown",
   "id": "2a43205b-2859-4597-b5db-358ad085a6a8",
   "metadata": {},
   "source": [
    "## Init the GPU environments"
   ]
  },
  {
   "cell_type": "code",
   "execution_count": 24,
   "id": "6d7ac77b-3047-4eb4-b2db-ecb1859c6938",
   "metadata": {},
   "outputs": [],
   "source": [
    "from util.accelerator_utils import AcceleratorStatus, AcceleratorHelper\n",
    "gpu_status = AcceleratorStatus()"
   ]
  },
  {
   "cell_type": "code",
   "execution_count": 25,
   "id": "a21b910f-f21e-4e68-9d05-1327510f4bfe",
   "metadata": {},
   "outputs": [
    {
     "name": "stdout",
     "output_type": "stream",
     "text": [
      "num_of_gpus: 1\n",
      "--------------------\n",
      "Device name      : NVIDIA A100 80GB PCIe MIG 2g.20gb \n",
      "Device idx       : 0 \n",
      "No. of processors: 28\n",
      "Physical  memory : 19.500000 GB\n",
      "Reserved  memory : 0.000000 GB\n",
      "Allocated memory : 0.000000 GB\n",
      "Free      memory : 0.000000 GB\n",
      "--------------------\n"
     ]
    }
   ],
   "source": [
    "gpu_status.gpu_usage()"
   ]
  },
  {
   "cell_type": "code",
   "execution_count": 26,
   "id": "a703cf63-bee5-4f29-aa28-8f11e461ae74",
   "metadata": {},
   "outputs": [],
   "source": [
    "gpu_helper = AcceleratorHelper()\n",
    "UUIDs = gpu_helper.nvidia_device_uuids_filtered_by(is_mig=True, log_output=False)\n",
    "# print(UUIDs)"
   ]
  },
  {
   "cell_type": "code",
   "execution_count": 27,
   "id": "bc8923a3-d0e5-494e-86de-a0eeb0de80e1",
   "metadata": {},
   "outputs": [
    {
     "name": "stdout",
     "output_type": "stream",
     "text": [
      "MIG-0efc9f06-6dca-5886-98af-0273ca7fde51\n",
      "/home/jovyan/llm-models/core-kind/yinwang/models\n"
     ]
    }
   ],
   "source": [
    "# set the model download cache directory\n",
    "display_architecture=True\n",
    "DATA_ROOT=\"/home/jovyan/llm-models\"\n",
    "\n",
    "gpu_helper.init_cuda_torch(UUIDs, f\"{DATA_ROOT}/core-kind/yinwang\")\n",
    "\n",
    "model_map = {\n",
    "   \"small\": \"google/mt5-small\", # 1.2 GB\n",
    "   \"base\" : \"google/mt5-base\", # 2.33 GB\n",
    "   \"large\" : \"google/mt5-large\", # 4.9 GB,\n",
    "   \"xl\" : \"google/mt5-xl\", # 15 GB\n",
    "   \"xxl\" : \"google/mt5-xxl\", # 51.7 GB,\n",
    "   \"custom\": \"Helsinki-NLP/opus-mt-de-en\", \n",
    "}\n",
    "\n",
    "print(os.environ[\"CUDA_VISIBLE_DEVICES\"])\n",
    "print(os.environ[\"XDG_CACHE_HOME\"])"
   ]
  },
  {
   "cell_type": "markdown",
   "id": "2ea74988-7764-41a6-ae20-a685d708bed9",
   "metadata": {},
   "source": [
    "## Setting up translation model"
   ]
  },
  {
   "cell_type": "code",
   "execution_count": 28,
   "id": "80fe33ad-666c-4794-9afa-c5b515458cbf",
   "metadata": {},
   "outputs": [
    {
     "name": "stdout",
     "output_type": "stream",
     "text": [
      "Helsinki-NLP/opus-mt-de-en\n"
     ]
    }
   ],
   "source": [
    "model_type = \"custom\"\n",
    "model_name = model_map.get(model_type, \"small\")\n",
    "\n",
    "print(model_name)"
   ]
  },
  {
   "cell_type": "code",
   "execution_count": 29,
   "id": "5bb65c33-4b8c-466f-985a-3f8d7789d079",
   "metadata": {},
   "outputs": [],
   "source": [
    "from transformers import pipeline\n",
    "import transformers"
   ]
  },
  {
   "cell_type": "code",
   "execution_count": 30,
   "id": "068283d6-c0a3-414a-a5ab-71a39978fbde",
   "metadata": {},
   "outputs": [],
   "source": [
    "'''\n",
    "device_map=\"auto\" doesn't work with \"Helsinki-NLP/opus-mt-de-en\" translator model\n",
    "use explicit gpu device id 0 with device=0\n",
    "'''\n",
    "generator = pipeline(\n",
    "    \"translation\", \n",
    "    model=model_name,\n",
    "    # device_map=\"auto\",\n",
    "    device=0,\n",
    ")"
   ]
  },
  {
   "cell_type": "code",
   "execution_count": 39,
   "id": "35516616-a921-419e-80df-276ed6685e35",
   "metadata": {},
   "outputs": [],
   "source": [
    "#type(generator)"
   ]
  },
  {
   "cell_type": "code",
   "execution_count": 33,
   "id": "24cc4e14-da3c-4b3a-a9e0-a1abb4e7f6e7",
   "metadata": {},
   "outputs": [],
   "source": [
    "# task_prefix = \"translate English to German: \"\n",
    "# task_prefix = \"translate German to English: \"\n",
    "# task_prefix = \"übersetze Deutsch zum Englisch: \"\n",
    "# Reference: https://huggingface.co/docs/transformers/model_doc/marian\n",
    "def translate_gen(\n",
    "    generator: transformers.pipelines.text2text_generation.TranslationPipeline, \n",
    "    info: AcceleratorStatus,\n",
    "):  \n",
    "    \"\"\"\n",
    "    Args:\n",
    "      max_new_tokens: control the maximum length of the generation\n",
    "    \"\"\"\n",
    "    \n",
    "    def local(sentences: list, max_length=400) -> list:\n",
    "        \"\"\"single input, no batch input\n",
    "        Args:\n",
    "          sentences:\n",
    "        \"\"\"\n",
    "        start = time.time()\n",
    "        \n",
    "        result = generator(\n",
    "            sentences, \n",
    "            max_length=max_length,\n",
    "            # return_tensors=\"pt\"\n",
    "        )\n",
    "        \n",
    "        end = time.time()\n",
    "        duration = end - start\n",
    "        print(\"-\"*20)\n",
    "        print(f\"walltime: {duration} in secs.\")\n",
    "        info.gpu_usage()\n",
    "        \n",
    "        return result\n",
    "    return local    \n",
    "\n",
    "translate = translate_gen(generator, gpu_status)"
   ]
  },
  {
   "cell_type": "code",
   "execution_count": 36,
   "id": "488da92f-4200-4f40-ac47-fe0db1da39a6",
   "metadata": {},
   "outputs": [],
   "source": [
    "input=\"Das Haus ist wunderbar.\""
   ]
  },
  {
   "cell_type": "code",
   "execution_count": 37,
   "id": "887eded6-4d0a-4bba-822e-c66d2a690bc9",
   "metadata": {},
   "outputs": [
    {
     "name": "stdout",
     "output_type": "stream",
     "text": [
      "--------------------\n",
      "walltime: 0.060678958892822266 in secs.\n",
      "num_of_gpus: 1\n",
      "--------------------\n",
      "Device name      : NVIDIA A100 80GB PCIe MIG 2g.20gb \n",
      "Device idx       : 0 \n",
      "No. of processors: 28\n",
      "Physical  memory : 19.500000 GB\n",
      "Reserved  memory : 0.310547 GB\n",
      "Allocated memory : 0.285861 GB\n",
      "Free      memory : 0.024686 GB\n",
      "--------------------\n"
     ]
    },
    {
     "data": {
      "text/plain": [
       "[{'translation_text': 'The house is wonderful.'}]"
      ]
     },
     "execution_count": 37,
     "metadata": {},
     "output_type": "execute_result"
    }
   ],
   "source": [
    "%timeit\n",
    "translate(input, max_length=1000)"
   ]
  },
  {
   "cell_type": "markdown",
   "id": "c8b7f373-31d3-4332-a985-275ae1ca29e1",
   "metadata": {},
   "source": [
    "## Loading pdf content from s3 buckets"
   ]
  },
  {
   "cell_type": "code",
   "execution_count": null,
   "id": "e66de078-f326-4bdd-9bf0-840150f64e29",
   "metadata": {},
   "outputs": [],
   "source": [
    "# WIP\n"
   ]
  },
  {
   "cell_type": "code",
   "execution_count": null,
   "id": "ab2d3a3f-1697-4f9d-8d01-cd163bfe16f3",
   "metadata": {},
   "outputs": [],
   "source": [
    "from util.pdf_text_loader import PDFHelper\n",
    "# DATA_ROOT=\"/home/jovyan/llm-models\"\n",
    "DATA_SUBDIR=\"core-kind/yinwang/data/medreports\"\n",
    "print(f\"{DATA_ROOT}/{DATA_SUBDIR}\")\n",
    "loader = PDFHelper(data_folder = f\"{DATA_ROOT}/{DATA_SUBDIR}\", file_pattern=\"KK-SCIVIAS-*.pdf\")"
   ]
  },
  {
   "cell_type": "code",
   "execution_count": null,
   "id": "625e18a2-f66f-42aa-8a44-6096ec650859",
   "metadata": {},
   "outputs": [],
   "source": [
    "loader.file_path_list"
   ]
  },
  {
   "cell_type": "code",
   "execution_count": null,
   "id": "d030e7c2-39c3-4ddb-b635-ecc013eb3191",
   "metadata": {},
   "outputs": [],
   "source": [
    "# has two testing file, choose the pdf file to be tranlated with list index\n",
    "# file_idx = 0\n",
    "file_idx = 1"
   ]
  },
  {
   "cell_type": "code",
   "execution_count": null,
   "id": "d66f77e1-54ce-4b0e-96a3-f5640e7e0906",
   "metadata": {},
   "outputs": [],
   "source": [
    "context = loader.read_pdf(file_idx)"
   ]
  },
  {
   "cell_type": "code",
   "execution_count": null,
   "id": "08bd05d2-dd9f-43e3-8286-a778d0e67183",
   "metadata": {},
   "outputs": [],
   "source": [
    "loader.count_token(file_idx)"
   ]
  },
  {
   "cell_type": "code",
   "execution_count": null,
   "id": "74b62873-f582-4496-9a2e-b60b096f7de4",
   "metadata": {},
   "outputs": [],
   "source": [
    "# https://stackoverflow.com/questions/13673060/split-string-into-strings-by-length\n",
    "def wrap(s, w):\n",
    "    \"\"\"\n",
    "    split string with length w into a list of strings with length w\n",
    "    Arge:\n",
    "      s: orginial str\n",
    "      w: with of the each split for the string\n",
    "      \n",
    "    Return:\n",
    "      a list of string with each element as string of length w\n",
    "    \"\"\"\n",
    "    return [s[i:i + w] for i in range(0, len(s), w)]"
   ]
  },
  {
   "cell_type": "code",
   "execution_count": null,
   "id": "b86dcae2-1dc5-4dd2-a442-a0193f84545b",
   "metadata": {},
   "outputs": [],
   "source": [
    "splitted_content = wrap(context, 350)"
   ]
  },
  {
   "cell_type": "code",
   "execution_count": null,
   "id": "db6025db-bfd6-4994-abe5-ebdaa8e3e355",
   "metadata": {},
   "outputs": [],
   "source": [
    "len(splitted_content)"
   ]
  },
  {
   "cell_type": "code",
   "execution_count": null,
   "id": "6fbe9801-a177-423e-8622-70d8d9eda1b9",
   "metadata": {},
   "outputs": [],
   "source": [
    "output = []\n",
    "for input in splitted_content:\n",
    "    output.append(translate(input)[0].get('translation_text', '').strip())"
   ]
  },
  {
   "cell_type": "code",
   "execution_count": null,
   "id": "3bf89997-8f01-4488-814d-be1484f1ac42",
   "metadata": {},
   "outputs": [],
   "source": [
    "en_content = ''.join(output)"
   ]
  },
  {
   "cell_type": "code",
   "execution_count": null,
   "id": "2c54680c-40e1-4523-a662-abf8e1254a56",
   "metadata": {},
   "outputs": [],
   "source": [
    "#print(en_content)"
   ]
  },
  {
   "cell_type": "code",
   "execution_count": null,
   "id": "615a0655-4eb0-421e-be36-2a658f8a4fa8",
   "metadata": {},
   "outputs": [],
   "source": [
    "print(f\"the translated text has tokens: {len(en_content)}\")"
   ]
  },
  {
   "cell_type": "code",
   "execution_count": null,
   "id": "70f3fd25-0f27-4aae-bf25-84daabeebd29",
   "metadata": {},
   "outputs": [],
   "source": [
    "def store_txt(content, path):\n",
    "    with open (path, \"w\") as text_file:\n",
    "        #write string to file\n",
    "        text_file.write(content)"
   ]
  },
  {
   "cell_type": "code",
   "execution_count": null,
   "id": "edbb2618-e327-44ba-a92f-ca887b22f7b6",
   "metadata": {},
   "outputs": [],
   "source": [
    "en_txt_path = loader.file_path_list[file_idx].replace(\"pdf\", \"txt\")"
   ]
  },
  {
   "cell_type": "code",
   "execution_count": null,
   "id": "0d1eadac-b5c6-4a85-ab6c-beb9f1c8a11f",
   "metadata": {},
   "outputs": [],
   "source": [
    "store_txt(en_content, en_txt_path)"
   ]
  },
  {
   "cell_type": "code",
   "execution_count": null,
   "id": "52dea4bd-4cab-4391-800a-d78885f21442",
   "metadata": {},
   "outputs": [],
   "source": []
  }
 ],
 "metadata": {
  "kernelspec": {
   "display_name": "Python 3 (ipykernel)",
   "language": "python",
   "name": "python3"
  },
  "language_info": {
   "codemirror_mode": {
    "name": "ipython",
    "version": 3
   },
   "file_extension": ".py",
   "mimetype": "text/x-python",
   "name": "python",
   "nbconvert_exporter": "python",
   "pygments_lexer": "ipython3",
   "version": "3.8.10"
  }
 },
 "nbformat": 4,
 "nbformat_minor": 5
}
