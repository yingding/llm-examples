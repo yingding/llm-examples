{
 "cells": [
  {
   "cell_type": "code",
   "execution_count": 2,
   "id": "a9302288-5f83-403a-81e4-d1cc15e28272",
   "metadata": {},
   "outputs": [],
   "source": [
    "import sys"
   ]
  },
  {
   "cell_type": "code",
   "execution_count": null,
   "id": "824c68ca-4eee-4418-8d98-ac8e9b8f6700",
   "metadata": {},
   "outputs": [],
   "source": [
    "#!{sys.executable} -m pip install --upgrade pip"
   ]
  },
  {
   "cell_type": "code",
   "execution_count": null,
   "id": "84683eed-edfb-4c7a-94dc-9b845a585985",
   "metadata": {},
   "outputs": [],
   "source": [
    "#!{sys.executable} -m pip install --user --upgrade kfp==2.0.0b13"
   ]
  },
  {
   "cell_type": "code",
   "execution_count": 8,
   "id": "afb58e2b-6559-4db3-9ebc-95ef05f2b151",
   "metadata": {},
   "outputs": [
    {
     "name": "stdout",
     "output_type": "stream",
     "text": [
      "huggingface_hub==0.16.4\n",
      "transformers==4.32.1\n",
      "torch==2.0.1\n",
      "accelerate==0.22.0\n",
      "#huggingface_hub use_auth_token need this.\n",
      "urllib3==2.0.4 \n",
      "jsonschema==4.19.0\n",
      "fastai==2.7.12\n",
      "torchaudio==2.0.2\n",
      "torchvision==0.15.2\n",
      "#argparse==1.4.0\n",
      "click==8.1.7\n",
      "#kfp==1.8.22"
     ]
    }
   ],
   "source": [
    "!cat ./requirements.txt"
   ]
  },
  {
   "cell_type": "code",
   "execution_count": 9,
   "id": "bbafbba5-b1fc-429f-b792-e829e0e5ba87",
   "metadata": {},
   "outputs": [
    {
     "name": "stdout",
     "output_type": "stream",
     "text": [
      "Requirement already satisfied: huggingface_hub==0.16.4 in /home/jovyan/.local/lib/python3.8/site-packages (from -r ./requirements.txt (line 1)) (0.16.4)\n",
      "Requirement already satisfied: transformers==4.32.1 in /home/jovyan/.local/lib/python3.8/site-packages (from -r ./requirements.txt (line 2)) (4.32.1)\n",
      "Requirement already satisfied: torch==2.0.1 in /home/jovyan/.local/lib/python3.8/site-packages (from -r ./requirements.txt (line 3)) (2.0.1)\n",
      "Requirement already satisfied: accelerate==0.22.0 in /home/jovyan/.local/lib/python3.8/site-packages (from -r ./requirements.txt (line 4)) (0.22.0)\n",
      "Requirement already satisfied: urllib3==2.0.4 in /home/jovyan/.local/lib/python3.8/site-packages (from -r ./requirements.txt (line 6)) (2.0.4)\n",
      "Requirement already satisfied: jsonschema==4.19.0 in /home/jovyan/.local/lib/python3.8/site-packages (from -r ./requirements.txt (line 7)) (4.19.0)\n",
      "Requirement already satisfied: fastai==2.7.12 in /home/jovyan/.local/lib/python3.8/site-packages (from -r ./requirements.txt (line 8)) (2.7.12)\n",
      "Requirement already satisfied: torchaudio==2.0.2 in /home/jovyan/.local/lib/python3.8/site-packages (from -r ./requirements.txt (line 9)) (2.0.2)\n",
      "Requirement already satisfied: torchvision==0.15.2 in /home/jovyan/.local/lib/python3.8/site-packages (from -r ./requirements.txt (line 10)) (0.15.2)\n",
      "Collecting click==8.1.7 (from -r ./requirements.txt (line 12))\n",
      "  Obtaining dependency information for click==8.1.7 from https://files.pythonhosted.org/packages/00/2e/d53fa4befbf2cfa713304affc7ca780ce4fc1fd8710527771b58311a3229/click-8.1.7-py3-none-any.whl.metadata\n",
      "  Downloading click-8.1.7-py3-none-any.whl.metadata (3.0 kB)\n",
      "Requirement already satisfied: filelock in /home/jovyan/.local/lib/python3.8/site-packages (from huggingface_hub==0.16.4->-r ./requirements.txt (line 1)) (3.12.3)\n",
      "Requirement already satisfied: fsspec in /home/jovyan/.local/lib/python3.8/site-packages (from huggingface_hub==0.16.4->-r ./requirements.txt (line 1)) (2023.9.0)\n",
      "Requirement already satisfied: requests in /home/jovyan/.local/lib/python3.8/site-packages (from huggingface_hub==0.16.4->-r ./requirements.txt (line 1)) (2.31.0)\n",
      "Requirement already satisfied: tqdm>=4.42.1 in /opt/conda/lib/python3.8/site-packages (from huggingface_hub==0.16.4->-r ./requirements.txt (line 1)) (4.65.0)\n",
      "Requirement already satisfied: pyyaml>=5.1 in /opt/conda/lib/python3.8/site-packages (from huggingface_hub==0.16.4->-r ./requirements.txt (line 1)) (5.4.1)\n",
      "Requirement already satisfied: typing-extensions>=3.7.4.3 in /home/jovyan/.local/lib/python3.8/site-packages (from huggingface_hub==0.16.4->-r ./requirements.txt (line 1)) (4.7.1)\n",
      "Requirement already satisfied: packaging>=20.9 in /opt/conda/lib/python3.8/site-packages (from huggingface_hub==0.16.4->-r ./requirements.txt (line 1)) (23.0)\n",
      "Requirement already satisfied: numpy>=1.17 in /opt/conda/lib/python3.8/site-packages (from transformers==4.32.1->-r ./requirements.txt (line 2)) (1.22.4)\n",
      "Requirement already satisfied: regex!=2019.12.17 in /home/jovyan/.local/lib/python3.8/site-packages (from transformers==4.32.1->-r ./requirements.txt (line 2)) (2023.8.8)\n",
      "Requirement already satisfied: tokenizers!=0.11.3,<0.14,>=0.11.1 in /home/jovyan/.local/lib/python3.8/site-packages (from transformers==4.32.1->-r ./requirements.txt (line 2)) (0.13.3)\n",
      "Requirement already satisfied: safetensors>=0.3.1 in /home/jovyan/.local/lib/python3.8/site-packages (from transformers==4.32.1->-r ./requirements.txt (line 2)) (0.3.3)\n",
      "Requirement already satisfied: sympy in /home/jovyan/.local/lib/python3.8/site-packages (from torch==2.0.1->-r ./requirements.txt (line 3)) (1.12)\n",
      "Requirement already satisfied: networkx in /opt/conda/lib/python3.8/site-packages (from torch==2.0.1->-r ./requirements.txt (line 3)) (3.0)\n",
      "Requirement already satisfied: jinja2 in /opt/conda/lib/python3.8/site-packages (from torch==2.0.1->-r ./requirements.txt (line 3)) (3.1.2)\n",
      "Requirement already satisfied: nvidia-cuda-nvrtc-cu11==11.7.99 in /home/jovyan/.local/lib/python3.8/site-packages (from torch==2.0.1->-r ./requirements.txt (line 3)) (11.7.99)\n",
      "Requirement already satisfied: nvidia-cuda-runtime-cu11==11.7.99 in /home/jovyan/.local/lib/python3.8/site-packages (from torch==2.0.1->-r ./requirements.txt (line 3)) (11.7.99)\n",
      "Requirement already satisfied: nvidia-cuda-cupti-cu11==11.7.101 in /home/jovyan/.local/lib/python3.8/site-packages (from torch==2.0.1->-r ./requirements.txt (line 3)) (11.7.101)\n",
      "Requirement already satisfied: nvidia-cudnn-cu11==8.5.0.96 in /home/jovyan/.local/lib/python3.8/site-packages (from torch==2.0.1->-r ./requirements.txt (line 3)) (8.5.0.96)\n",
      "Requirement already satisfied: nvidia-cublas-cu11==11.10.3.66 in /home/jovyan/.local/lib/python3.8/site-packages (from torch==2.0.1->-r ./requirements.txt (line 3)) (11.10.3.66)\n",
      "Requirement already satisfied: nvidia-cufft-cu11==10.9.0.58 in /home/jovyan/.local/lib/python3.8/site-packages (from torch==2.0.1->-r ./requirements.txt (line 3)) (10.9.0.58)\n",
      "Requirement already satisfied: nvidia-curand-cu11==10.2.10.91 in /home/jovyan/.local/lib/python3.8/site-packages (from torch==2.0.1->-r ./requirements.txt (line 3)) (10.2.10.91)\n",
      "Requirement already satisfied: nvidia-cusolver-cu11==11.4.0.1 in /home/jovyan/.local/lib/python3.8/site-packages (from torch==2.0.1->-r ./requirements.txt (line 3)) (11.4.0.1)\n",
      "Requirement already satisfied: nvidia-cusparse-cu11==11.7.4.91 in /home/jovyan/.local/lib/python3.8/site-packages (from torch==2.0.1->-r ./requirements.txt (line 3)) (11.7.4.91)\n",
      "Requirement already satisfied: nvidia-nccl-cu11==2.14.3 in /home/jovyan/.local/lib/python3.8/site-packages (from torch==2.0.1->-r ./requirements.txt (line 3)) (2.14.3)\n",
      "Requirement already satisfied: nvidia-nvtx-cu11==11.7.91 in /home/jovyan/.local/lib/python3.8/site-packages (from torch==2.0.1->-r ./requirements.txt (line 3)) (11.7.91)\n",
      "Requirement already satisfied: triton==2.0.0 in /home/jovyan/.local/lib/python3.8/site-packages (from torch==2.0.1->-r ./requirements.txt (line 3)) (2.0.0)\n",
      "Requirement already satisfied: psutil in /opt/conda/lib/python3.8/site-packages (from accelerate==0.22.0->-r ./requirements.txt (line 4)) (5.9.4)\n",
      "Requirement already satisfied: attrs>=22.2.0 in /opt/conda/lib/python3.8/site-packages (from jsonschema==4.19.0->-r ./requirements.txt (line 7)) (22.2.0)\n",
      "Requirement already satisfied: importlib-resources>=1.4.0 in /opt/conda/lib/python3.8/site-packages (from jsonschema==4.19.0->-r ./requirements.txt (line 7)) (5.12.0)\n",
      "Requirement already satisfied: jsonschema-specifications>=2023.03.6 in /home/jovyan/.local/lib/python3.8/site-packages (from jsonschema==4.19.0->-r ./requirements.txt (line 7)) (2023.7.1)\n",
      "Requirement already satisfied: pkgutil-resolve-name>=1.3.10 in /opt/conda/lib/python3.8/site-packages (from jsonschema==4.19.0->-r ./requirements.txt (line 7)) (1.3.10)\n",
      "Requirement already satisfied: referencing>=0.28.4 in /home/jovyan/.local/lib/python3.8/site-packages (from jsonschema==4.19.0->-r ./requirements.txt (line 7)) (0.30.2)\n",
      "Requirement already satisfied: rpds-py>=0.7.1 in /home/jovyan/.local/lib/python3.8/site-packages (from jsonschema==4.19.0->-r ./requirements.txt (line 7)) (0.10.0)\n",
      "Requirement already satisfied: pip in /opt/conda/lib/python3.8/site-packages (from fastai==2.7.12->-r ./requirements.txt (line 8)) (23.2.1)\n",
      "Requirement already satisfied: fastdownload<2,>=0.0.5 in /home/jovyan/.local/lib/python3.8/site-packages (from fastai==2.7.12->-r ./requirements.txt (line 8)) (0.0.7)\n",
      "Requirement already satisfied: fastcore<1.6,>=1.5.29 in /home/jovyan/.local/lib/python3.8/site-packages (from fastai==2.7.12->-r ./requirements.txt (line 8)) (1.5.29)\n",
      "Requirement already satisfied: matplotlib in /opt/conda/lib/python3.8/site-packages (from fastai==2.7.12->-r ./requirements.txt (line 8)) (3.4.2)\n",
      "Requirement already satisfied: pandas in /opt/conda/lib/python3.8/site-packages (from fastai==2.7.12->-r ./requirements.txt (line 8)) (1.2.4)\n",
      "Requirement already satisfied: fastprogress>=0.2.4 in /opt/conda/lib/python3.8/site-packages (from fastai==2.7.12->-r ./requirements.txt (line 8)) (1.0.3)\n",
      "Requirement already satisfied: pillow>6.0.0 in /opt/conda/lib/python3.8/site-packages (from fastai==2.7.12->-r ./requirements.txt (line 8)) (9.4.0)\n",
      "Requirement already satisfied: scikit-learn in /opt/conda/lib/python3.8/site-packages (from fastai==2.7.12->-r ./requirements.txt (line 8)) (0.24.2)\n",
      "Requirement already satisfied: scipy in /opt/conda/lib/python3.8/site-packages (from fastai==2.7.12->-r ./requirements.txt (line 8)) (1.7.0)\n",
      "Requirement already satisfied: spacy<4 in /opt/conda/lib/python3.8/site-packages (from fastai==2.7.12->-r ./requirements.txt (line 8)) (3.5.1)\n",
      "Requirement already satisfied: setuptools in /opt/conda/lib/python3.8/site-packages (from nvidia-cublas-cu11==11.10.3.66->torch==2.0.1->-r ./requirements.txt (line 3)) (67.6.0)\n",
      "Requirement already satisfied: wheel in /opt/conda/lib/python3.8/site-packages (from nvidia-cublas-cu11==11.10.3.66->torch==2.0.1->-r ./requirements.txt (line 3)) (0.40.0)\n",
      "Requirement already satisfied: cmake in /home/jovyan/.local/lib/python3.8/site-packages (from triton==2.0.0->torch==2.0.1->-r ./requirements.txt (line 3)) (3.27.2)\n",
      "Requirement already satisfied: lit in /home/jovyan/.local/lib/python3.8/site-packages (from triton==2.0.0->torch==2.0.1->-r ./requirements.txt (line 3)) (16.0.6)\n",
      "Requirement already satisfied: zipp>=3.1.0 in /opt/conda/lib/python3.8/site-packages (from importlib-resources>=1.4.0->jsonschema==4.19.0->-r ./requirements.txt (line 7)) (3.15.0)\n",
      "Requirement already satisfied: spacy-legacy<3.1.0,>=3.0.11 in /opt/conda/lib/python3.8/site-packages (from spacy<4->fastai==2.7.12->-r ./requirements.txt (line 8)) (3.0.12)\n",
      "Requirement already satisfied: spacy-loggers<2.0.0,>=1.0.0 in /opt/conda/lib/python3.8/site-packages (from spacy<4->fastai==2.7.12->-r ./requirements.txt (line 8)) (1.0.4)\n",
      "Requirement already satisfied: murmurhash<1.1.0,>=0.28.0 in /opt/conda/lib/python3.8/site-packages (from spacy<4->fastai==2.7.12->-r ./requirements.txt (line 8)) (1.0.9)\n",
      "Requirement already satisfied: cymem<2.1.0,>=2.0.2 in /opt/conda/lib/python3.8/site-packages (from spacy<4->fastai==2.7.12->-r ./requirements.txt (line 8)) (2.0.7)\n",
      "Requirement already satisfied: preshed<3.1.0,>=3.0.2 in /opt/conda/lib/python3.8/site-packages (from spacy<4->fastai==2.7.12->-r ./requirements.txt (line 8)) (3.0.8)\n",
      "Requirement already satisfied: thinc<8.2.0,>=8.1.8 in /opt/conda/lib/python3.8/site-packages (from spacy<4->fastai==2.7.12->-r ./requirements.txt (line 8)) (8.1.9)\n",
      "Requirement already satisfied: wasabi<1.2.0,>=0.9.1 in /opt/conda/lib/python3.8/site-packages (from spacy<4->fastai==2.7.12->-r ./requirements.txt (line 8)) (1.1.1)\n",
      "Requirement already satisfied: srsly<3.0.0,>=2.4.3 in /opt/conda/lib/python3.8/site-packages (from spacy<4->fastai==2.7.12->-r ./requirements.txt (line 8)) (2.4.6)\n",
      "Requirement already satisfied: catalogue<2.1.0,>=2.0.6 in /opt/conda/lib/python3.8/site-packages (from spacy<4->fastai==2.7.12->-r ./requirements.txt (line 8)) (2.0.8)\n",
      "Requirement already satisfied: typer<0.8.0,>=0.3.0 in /opt/conda/lib/python3.8/site-packages (from spacy<4->fastai==2.7.12->-r ./requirements.txt (line 8)) (0.7.0)\n",
      "Requirement already satisfied: pathy>=0.10.0 in /opt/conda/lib/python3.8/site-packages (from spacy<4->fastai==2.7.12->-r ./requirements.txt (line 8)) (0.10.1)\n",
      "Requirement already satisfied: smart-open<7.0.0,>=5.2.1 in /opt/conda/lib/python3.8/site-packages (from spacy<4->fastai==2.7.12->-r ./requirements.txt (line 8)) (6.3.0)\n",
      "Requirement already satisfied: pydantic!=1.8,!=1.8.1,<1.11.0,>=1.7.4 in /opt/conda/lib/python3.8/site-packages (from spacy<4->fastai==2.7.12->-r ./requirements.txt (line 8)) (1.10.7)\n",
      "Requirement already satisfied: langcodes<4.0.0,>=3.2.0 in /opt/conda/lib/python3.8/site-packages (from spacy<4->fastai==2.7.12->-r ./requirements.txt (line 8)) (3.3.0)\n",
      "Requirement already satisfied: charset-normalizer<4,>=2 in /opt/conda/lib/python3.8/site-packages (from requests->huggingface_hub==0.16.4->-r ./requirements.txt (line 1)) (2.1.1)\n",
      "Requirement already satisfied: idna<4,>=2.5 in /opt/conda/lib/python3.8/site-packages (from requests->huggingface_hub==0.16.4->-r ./requirements.txt (line 1)) (3.4)\n",
      "Requirement already satisfied: certifi>=2017.4.17 in /opt/conda/lib/python3.8/site-packages (from requests->huggingface_hub==0.16.4->-r ./requirements.txt (line 1)) (2022.12.7)\n",
      "Requirement already satisfied: MarkupSafe>=2.0 in /opt/conda/lib/python3.8/site-packages (from jinja2->torch==2.0.1->-r ./requirements.txt (line 3)) (2.1.2)\n",
      "Requirement already satisfied: cycler>=0.10 in /opt/conda/lib/python3.8/site-packages (from matplotlib->fastai==2.7.12->-r ./requirements.txt (line 8)) (0.11.0)\n",
      "Requirement already satisfied: kiwisolver>=1.0.1 in /opt/conda/lib/python3.8/site-packages (from matplotlib->fastai==2.7.12->-r ./requirements.txt (line 8)) (1.4.4)\n",
      "Requirement already satisfied: pyparsing>=2.2.1 in /opt/conda/lib/python3.8/site-packages (from matplotlib->fastai==2.7.12->-r ./requirements.txt (line 8)) (3.0.9)\n",
      "Requirement already satisfied: python-dateutil>=2.7 in /opt/conda/lib/python3.8/site-packages (from matplotlib->fastai==2.7.12->-r ./requirements.txt (line 8)) (2.8.2)\n",
      "Requirement already satisfied: pytz>=2017.3 in /opt/conda/lib/python3.8/site-packages (from pandas->fastai==2.7.12->-r ./requirements.txt (line 8)) (2023.2)\n",
      "Requirement already satisfied: joblib>=0.11 in /opt/conda/lib/python3.8/site-packages (from scikit-learn->fastai==2.7.12->-r ./requirements.txt (line 8)) (1.2.0)\n",
      "Requirement already satisfied: threadpoolctl>=2.0.0 in /opt/conda/lib/python3.8/site-packages (from scikit-learn->fastai==2.7.12->-r ./requirements.txt (line 8)) (3.1.0)\n",
      "Requirement already satisfied: mpmath>=0.19 in /home/jovyan/.local/lib/python3.8/site-packages (from sympy->torch==2.0.1->-r ./requirements.txt (line 3)) (1.3.0)\n",
      "Requirement already satisfied: six>=1.5 in /opt/conda/lib/python3.8/site-packages (from python-dateutil>=2.7->matplotlib->fastai==2.7.12->-r ./requirements.txt (line 8)) (1.16.0)\n",
      "Requirement already satisfied: blis<0.8.0,>=0.7.8 in /opt/conda/lib/python3.8/site-packages (from thinc<8.2.0,>=8.1.8->spacy<4->fastai==2.7.12->-r ./requirements.txt (line 8)) (0.7.9)\n",
      "Requirement already satisfied: confection<1.0.0,>=0.0.1 in /opt/conda/lib/python3.8/site-packages (from thinc<8.2.0,>=8.1.8->spacy<4->fastai==2.7.12->-r ./requirements.txt (line 8)) (0.0.4)\n",
      "Downloading click-8.1.7-py3-none-any.whl (97 kB)\n",
      "\u001b[2K   \u001b[90m━━━━━━━━━━━━━━━━━━━━━━━━━━━━━━━━━━━━━━━━\u001b[0m \u001b[32m97.9/97.9 kB\u001b[0m \u001b[31m4.8 MB/s\u001b[0m eta \u001b[36m0:00:00\u001b[0m\n",
      "\u001b[?25hInstalling collected packages: click\n",
      "Successfully installed click-8.1.7\n"
     ]
    }
   ],
   "source": [
    "!{sys.executable} -m pip install --user --upgrade -r ./requirements.txt"
   ]
  },
  {
   "cell_type": "markdown",
   "id": "96a7468a-cdc9-462f-98ab-c6b64d1be424",
   "metadata": {},
   "source": [
    "## (optional) restart kernel"
   ]
  },
  {
   "cell_type": "markdown",
   "id": "0fff70f6-cd4d-4298-91bf-c7c948e6fc72",
   "metadata": {},
   "source": [
    "### (optional) Set huggingface cli in terminal\n",
    "\n",
    "```shell\n",
    "PATH=${PATH}:/home/jupyter/.local/bin\n",
    "```"
   ]
  },
  {
   "cell_type": "code",
   "execution_count": 5,
   "id": "c9795f7a-5be2-49dd-b889-d363885fddf7",
   "metadata": {},
   "outputs": [],
   "source": [
    "# (optional) uncomment the following lines to set path in python notebook cell for notebook session \n",
    "# PATH=%env PATH\n",
    "# %env PATH={PATH}:/home/jupyter/.local/bin"
   ]
  },
  {
   "cell_type": "code",
   "execution_count": null,
   "id": "ac07e07a-47b5-4e03-bf85-8302e1157473",
   "metadata": {},
   "outputs": [],
   "source": []
  }
 ],
 "metadata": {
  "kernelspec": {
   "display_name": "Python 3 (ipykernel)",
   "language": "python",
   "name": "python3"
  },
  "language_info": {
   "codemirror_mode": {
    "name": "ipython",
    "version": 3
   },
   "file_extension": ".py",
   "mimetype": "text/x-python",
   "name": "python",
   "nbconvert_exporter": "python",
   "pygments_lexer": "ipython3",
   "version": "3.8.10"
  }
 },
 "nbformat": 4,
 "nbformat_minor": 5
}
