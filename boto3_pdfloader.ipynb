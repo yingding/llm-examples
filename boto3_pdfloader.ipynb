{
 "cells": [
  {
   "cell_type": "code",
   "execution_count": 2,
   "id": "2285af06-60ea-4e96-8602-c46b2d83119d",
   "metadata": {},
   "outputs": [],
   "source": [
    "from util.gpu_utils import GPUInfoHelper"
   ]
  },
  {
   "cell_type": "code",
   "execution_count": 4,
   "id": "c2548c87-f180-42b3-8e48-ee109aace597",
   "metadata": {},
   "outputs": [
    {
     "name": "stdout",
     "output_type": "stream",
     "text": [
      "num_of_gpus: 1\n",
      "--------------------\n",
      "Device_name      : NVIDIA A100 80GB PCIe MIG 2g.20gb \n",
      "Multi_processor  : 28\n",
      "Physical  memory : 19.500000 GB\n",
      "Reserved  memory : 0.000000 GB\n",
      "Allocated memory : 0.000000 GB\n",
      "Free      memory : 0.000000 GB\n",
      "--------------------\n"
     ]
    }
   ],
   "source": [
    "gpu_info_helper = GPUInfoHelper()\n",
    "gpu_info_helper.gpu_usage()"
   ]
  },
  {
   "cell_type": "code",
   "execution_count": 6,
   "id": "a7ab92e4-6cda-4ba4-ad0f-cc9c1cbb4a2e",
   "metadata": {},
   "outputs": [],
   "source": [
    "from util.pdf_text_loader import PDFHelper"
   ]
  },
  {
   "cell_type": "code",
   "execution_count": null,
   "id": "59b6ebed-d604-4548-8ed4-1849af33f1b5",
   "metadata": {},
   "outputs": [],
   "source": []
  }
 ],
 "metadata": {
  "kernelspec": {
   "display_name": "Python 3 (ipykernel)",
   "language": "python",
   "name": "python3"
  },
  "language_info": {
   "codemirror_mode": {
    "name": "ipython",
    "version": 3
   },
   "file_extension": ".py",
   "mimetype": "text/x-python",
   "name": "python",
   "nbconvert_exporter": "python",
   "pygments_lexer": "ipython3",
   "version": "3.8.10"
  }
 },
 "nbformat": 4,
 "nbformat_minor": 5
}
