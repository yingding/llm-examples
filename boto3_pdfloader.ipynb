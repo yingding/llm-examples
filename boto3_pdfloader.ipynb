{
 "cells": [
  {
   "cell_type": "markdown",
   "id": "b80b5e04-2584-4ee1-9f57-cca4f2915b33",
   "metadata": {},
   "source": [
    "# Introduction\n",
    "\n",
    "Auther: Yingding Wang\\\n",
    "Created: 15.11.2023\n",
    "\n",
    "* Boto3 client doc: https://boto3.amazonaws.com/v1/documentation/api/latest/reference/services/s3.html#S3.Client.list_objects\n",
    "* S3 bucket doesn't have folder, but prefix\n",
    "https://stackoverflow.com/questions/51303609/python-recursive-glob-in-s3/51303951#51303951\n",
    "* Boto3 latest pypi version\n",
    "https://pypi.org/project/boto3/\n",
    "\n",
    "### show ENV variables of the pod\n",
    "```python\n",
    "import os\n",
    "print(os.environ)\n",
    "```\n",
    "or\n",
    "```\n",
    "!env\n",
    "```\n"
   ]
  },
  {
   "cell_type": "code",
   "execution_count": 7,
   "id": "c69b1794-b45a-462b-aa1d-6c7ad4dfe1d5",
   "metadata": {},
   "outputs": [],
   "source": [
    "import sys"
   ]
  },
  {
   "cell_type": "code",
   "execution_count": 10,
   "id": "f7e09db4-e74a-4dc3-802a-bc1d93cdee10",
   "metadata": {},
   "outputs": [],
   "source": [
    "# Installing collected packages: jmespath, botocore, s3transfer, boto3\n",
    "# !{sys.executable} -m pip install --user --upgrade boto3==1.29.0"
   ]
  },
  {
   "cell_type": "code",
   "execution_count": 2,
   "id": "2285af06-60ea-4e96-8602-c46b2d83119d",
   "metadata": {},
   "outputs": [],
   "source": [
    "from util.gpu_utils import GPUInfoHelper"
   ]
  },
  {
   "cell_type": "code",
   "execution_count": 4,
   "id": "c2548c87-f180-42b3-8e48-ee109aace597",
   "metadata": {},
   "outputs": [
    {
     "name": "stdout",
     "output_type": "stream",
     "text": [
      "num_of_gpus: 1\n",
      "--------------------\n",
      "Device_name      : NVIDIA A100 80GB PCIe MIG 2g.20gb \n",
      "Multi_processor  : 28\n",
      "Physical  memory : 19.500000 GB\n",
      "Reserved  memory : 0.000000 GB\n",
      "Allocated memory : 0.000000 GB\n",
      "Free      memory : 0.000000 GB\n",
      "--------------------\n"
     ]
    }
   ],
   "source": [
    "gpu_info_helper = GPUInfoHelper()\n",
    "gpu_info_helper.gpu_usage()"
   ]
  },
  {
   "cell_type": "code",
   "execution_count": null,
   "id": "82c2a10f-d820-451e-8e00-b7168d0e7808",
   "metadata": {},
   "outputs": [],
   "source": [
    "import os\n",
    "import boto3\n",
    "bucket_name=\"scivias-medreports\"\n",
    "session = boto3.session.Session(\n",
    "    aws_access_key_id = os.environ.get('AWS_ACCESS_KEY_ID'),\n",
    "    aws_secret_access_key = os.environ.get('AWS_SECRET_ACCESS_KEY')\n",
    ")\n",
    "#s3 = session.resource('s3', endpoint_url = os.environ.get('S3_ENDPOINT'), verify=False)\n",
    "s3 = session.resource('s3', endpoint_url = os.environ.get('S3_ENDPOINT'))\n",
    "bucket = s3.Bucket(bucket_name)\n",
    "for obj in bucket.objects.all():\n",
    "    print(obj)"
   ]
  },
  {
   "cell_type": "code",
   "execution_count": null,
   "id": "acb60d3c-03b5-4e1f-a0c1-b05853a10b89",
   "metadata": {},
   "outputs": [],
   "source": []
  }
 ],
 "metadata": {
  "kernelspec": {
   "display_name": "Python 3 (ipykernel)",
   "language": "python",
   "name": "python3"
  },
  "language_info": {
   "codemirror_mode": {
    "name": "ipython",
    "version": 3
   },
   "file_extension": ".py",
   "mimetype": "text/x-python",
   "name": "python",
   "nbconvert_exporter": "python",
   "pygments_lexer": "ipython3",
   "version": "3.8.10"
  }
 },
 "nbformat": 4,
 "nbformat_minor": 5
}
